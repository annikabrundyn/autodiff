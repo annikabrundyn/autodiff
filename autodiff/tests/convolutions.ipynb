{
  "nbformat": 4,
  "nbformat_minor": 0,
  "metadata": {
    "colab": {
      "name": "convolutions.ipynb",
      "provenance": [],
      "collapsed_sections": [],
      "include_colab_link": true
    },
    "kernelspec": {
      "name": "python3",
      "display_name": "Python 3"
    },
    "accelerator": "GPU"
  },
  "cells": [
    {
      "cell_type": "markdown",
      "metadata": {
        "id": "view-in-github",
        "colab_type": "text"
      },
      "source": [
        "<a href=\"https://colab.research.google.com/github/annikabrundyn/autodiff/blob/main/autodiff/tests/convolutions.ipynb\" target=\"_parent\"><img src=\"https://colab.research.google.com/assets/colab-badge.svg\" alt=\"Open In Colab\"/></a>"
      ]
    },
    {
      "cell_type": "code",
      "metadata": {
        "id": "JMixWhjQeAbb",
        "colab": {
          "base_uri": "https://localhost:8080/"
        },
        "outputId": "7dd27d2e-ca00-4f72-9134-444d7888c3e5"
      },
      "source": [
        "!nvidia-smi"
      ],
      "execution_count": null,
      "outputs": [
        {
          "output_type": "stream",
          "text": [
            "Thu May 13 04:02:58 2021       \n",
            "+-----------------------------------------------------------------------------+\n",
            "| NVIDIA-SMI 465.19.01    Driver Version: 460.32.03    CUDA Version: 11.2     |\n",
            "|-------------------------------+----------------------+----------------------+\n",
            "| GPU  Name        Persistence-M| Bus-Id        Disp.A | Volatile Uncorr. ECC |\n",
            "| Fan  Temp  Perf  Pwr:Usage/Cap|         Memory-Usage | GPU-Util  Compute M. |\n",
            "|                               |                      |               MIG M. |\n",
            "|===============================+======================+======================|\n",
            "|   0  Tesla P100-PCIE...  Off  | 00000000:00:04.0 Off |                    0 |\n",
            "| N/A   34C    P0    25W / 250W |      0MiB / 16280MiB |      0%      Default |\n",
            "|                               |                      |                  N/A |\n",
            "+-------------------------------+----------------------+----------------------+\n",
            "                                                                               \n",
            "+-----------------------------------------------------------------------------+\n",
            "| Processes:                                                                  |\n",
            "|  GPU   GI   CI        PID   Type   Process name                  GPU Memory |\n",
            "|        ID   ID                                                   Usage      |\n",
            "|=============================================================================|\n",
            "|  No running processes found                                                 |\n",
            "+-----------------------------------------------------------------------------+\n"
          ],
          "name": "stdout"
        }
      ]
    },
    {
      "cell_type": "code",
      "metadata": {
        "id": "44vQQA4EeLzb"
      },
      "source": [
        "import numpy as np\n",
        "from numba import jit, njit, prange, cuda\n",
        "import cupy as cp\n",
        "from cupy import multiply\n",
        "import math"
      ],
      "execution_count": null,
      "outputs": []
    },
    {
      "cell_type": "code",
      "metadata": {
        "id": "eC_vlhDw9_ca",
        "colab": {
          "base_uri": "https://localhost:8080/",
          "height": 658
        },
        "outputId": "120cdbd8-0005-40b7-fa85-29a4e3c9c143"
      },
      "source": [
        "!pip install -U cupy\n",
        "!pip install line_profiler\n",
        "%load_ext line_profiler"
      ],
      "execution_count": null,
      "outputs": [
        {
          "output_type": "stream",
          "text": [
            "Collecting cupy\n",
            "\u001b[?25l  Downloading https://files.pythonhosted.org/packages/07/f8/64b350de7bbf1aaa070ce97dcb26379a4226441a4916900f68dcfe235d62/cupy-9.0.0.tar.gz (1.6MB)\n",
            "\r\u001b[K     |▏                               | 10kB 20.3MB/s eta 0:00:01\r\u001b[K     |▍                               | 20kB 11.0MB/s eta 0:00:01\r\u001b[K     |▋                               | 30kB 8.8MB/s eta 0:00:01\r\u001b[K     |▉                               | 40kB 7.3MB/s eta 0:00:01\r\u001b[K     |█                               | 51kB 4.3MB/s eta 0:00:01\r\u001b[K     |█▏                              | 61kB 4.6MB/s eta 0:00:01\r\u001b[K     |█▍                              | 71kB 5.2MB/s eta 0:00:01\r\u001b[K     |█▋                              | 81kB 5.5MB/s eta 0:00:01\r\u001b[K     |█▉                              | 92kB 5.3MB/s eta 0:00:01\r\u001b[K     |██                              | 102kB 4.3MB/s eta 0:00:01\r\u001b[K     |██▎                             | 112kB 4.3MB/s eta 0:00:01\r\u001b[K     |██▍                             | 122kB 4.3MB/s eta 0:00:01\r\u001b[K     |██▋                             | 133kB 4.3MB/s eta 0:00:01\r\u001b[K     |██▉                             | 143kB 4.3MB/s eta 0:00:01\r\u001b[K     |███                             | 153kB 4.3MB/s eta 0:00:01\r\u001b[K     |███▎                            | 163kB 4.3MB/s eta 0:00:01\r\u001b[K     |███▌                            | 174kB 4.3MB/s eta 0:00:01\r\u001b[K     |███▋                            | 184kB 4.3MB/s eta 0:00:01\r\u001b[K     |███▉                            | 194kB 4.3MB/s eta 0:00:01\r\u001b[K     |████                            | 204kB 4.3MB/s eta 0:00:01\r\u001b[K     |████▎                           | 215kB 4.3MB/s eta 0:00:01\r\u001b[K     |████▌                           | 225kB 4.3MB/s eta 0:00:01\r\u001b[K     |████▊                           | 235kB 4.3MB/s eta 0:00:01\r\u001b[K     |████▉                           | 245kB 4.3MB/s eta 0:00:01\r\u001b[K     |█████                           | 256kB 4.3MB/s eta 0:00:01\r\u001b[K     |█████▎                          | 266kB 4.3MB/s eta 0:00:01\r\u001b[K     |█████▌                          | 276kB 4.3MB/s eta 0:00:01\r\u001b[K     |█████▊                          | 286kB 4.3MB/s eta 0:00:01\r\u001b[K     |██████                          | 296kB 4.3MB/s eta 0:00:01\r\u001b[K     |██████                          | 307kB 4.3MB/s eta 0:00:01\r\u001b[K     |██████▎                         | 317kB 4.3MB/s eta 0:00:01\r\u001b[K     |██████▌                         | 327kB 4.3MB/s eta 0:00:01\r\u001b[K     |██████▊                         | 337kB 4.3MB/s eta 0:00:01\r\u001b[K     |███████                         | 348kB 4.3MB/s eta 0:00:01\r\u001b[K     |███████▏                        | 358kB 4.3MB/s eta 0:00:01\r\u001b[K     |███████▎                        | 368kB 4.3MB/s eta 0:00:01\r\u001b[K     |███████▌                        | 378kB 4.3MB/s eta 0:00:01\r\u001b[K     |███████▊                        | 389kB 4.3MB/s eta 0:00:01\r\u001b[K     |████████                        | 399kB 4.3MB/s eta 0:00:01\r\u001b[K     |████████▏                       | 409kB 4.3MB/s eta 0:00:01\r\u001b[K     |████████▍                       | 419kB 4.3MB/s eta 0:00:01\r\u001b[K     |████████▌                       | 430kB 4.3MB/s eta 0:00:01\r\u001b[K     |████████▊                       | 440kB 4.3MB/s eta 0:00:01\r\u001b[K     |█████████                       | 450kB 4.3MB/s eta 0:00:01\r\u001b[K     |█████████▏                      | 460kB 4.3MB/s eta 0:00:01\r\u001b[K     |█████████▍                      | 471kB 4.3MB/s eta 0:00:01\r\u001b[K     |█████████▋                      | 481kB 4.3MB/s eta 0:00:01\r\u001b[K     |█████████▊                      | 491kB 4.3MB/s eta 0:00:01\r\u001b[K     |██████████                      | 501kB 4.3MB/s eta 0:00:01\r\u001b[K     |██████████▏                     | 512kB 4.3MB/s eta 0:00:01\r\u001b[K     |██████████▍                     | 522kB 4.3MB/s eta 0:00:01\r\u001b[K     |██████████▋                     | 532kB 4.3MB/s eta 0:00:01\r\u001b[K     |██████████▉                     | 542kB 4.3MB/s eta 0:00:01\r\u001b[K     |███████████                     | 552kB 4.3MB/s eta 0:00:01\r\u001b[K     |███████████▏                    | 563kB 4.3MB/s eta 0:00:01\r\u001b[K     |███████████▍                    | 573kB 4.3MB/s eta 0:00:01\r\u001b[K     |███████████▋                    | 583kB 4.3MB/s eta 0:00:01\r\u001b[K     |███████████▉                    | 593kB 4.3MB/s eta 0:00:01\r\u001b[K     |████████████                    | 604kB 4.3MB/s eta 0:00:01\r\u001b[K     |████████████▏                   | 614kB 4.3MB/s eta 0:00:01\r\u001b[K     |████████████▍                   | 624kB 4.3MB/s eta 0:00:01\r\u001b[K     |████████████▋                   | 634kB 4.3MB/s eta 0:00:01\r\u001b[K     |████████████▉                   | 645kB 4.3MB/s eta 0:00:01\r\u001b[K     |█████████████                   | 655kB 4.3MB/s eta 0:00:01\r\u001b[K     |█████████████▎                  | 665kB 4.3MB/s eta 0:00:01\r\u001b[K     |█████████████▍                  | 675kB 4.3MB/s eta 0:00:01\r\u001b[K     |█████████████▋                  | 686kB 4.3MB/s eta 0:00:01\r\u001b[K     |█████████████▉                  | 696kB 4.3MB/s eta 0:00:01\r\u001b[K     |██████████████                  | 706kB 4.3MB/s eta 0:00:01\r\u001b[K     |██████████████▎                 | 716kB 4.3MB/s eta 0:00:01\r\u001b[K     |██████████████▍                 | 727kB 4.3MB/s eta 0:00:01\r\u001b[K     |██████████████▋                 | 737kB 4.3MB/s eta 0:00:01\r\u001b[K     |██████████████▉                 | 747kB 4.3MB/s eta 0:00:01\r\u001b[K     |███████████████                 | 757kB 4.3MB/s eta 0:00:01\r\u001b[K     |███████████████▎                | 768kB 4.3MB/s eta 0:00:01\r\u001b[K     |███████████████▌                | 778kB 4.3MB/s eta 0:00:01\r\u001b[K     |███████████████▋                | 788kB 4.3MB/s eta 0:00:01\r\u001b[K     |███████████████▉                | 798kB 4.3MB/s eta 0:00:01\r\u001b[K     |████████████████                | 808kB 4.3MB/s eta 0:00:01\r\u001b[K     |████████████████▎               | 819kB 4.3MB/s eta 0:00:01\r\u001b[K     |████████████████▌               | 829kB 4.3MB/s eta 0:00:01\r\u001b[K     |████████████████▊               | 839kB 4.3MB/s eta 0:00:01\r\u001b[K     |████████████████▉               | 849kB 4.3MB/s eta 0:00:01\r\u001b[K     |█████████████████               | 860kB 4.3MB/s eta 0:00:01\r\u001b[K     |█████████████████▎              | 870kB 4.3MB/s eta 0:00:01\r\u001b[K     |█████████████████▌              | 880kB 4.3MB/s eta 0:00:01\r\u001b[K     |█████████████████▊              | 890kB 4.3MB/s eta 0:00:01\r\u001b[K     |██████████████████              | 901kB 4.3MB/s eta 0:00:01\r\u001b[K     |██████████████████              | 911kB 4.3MB/s eta 0:00:01\r\u001b[K     |██████████████████▎             | 921kB 4.3MB/s eta 0:00:01\r\u001b[K     |██████████████████▌             | 931kB 4.3MB/s eta 0:00:01\r\u001b[K     |██████████████████▊             | 942kB 4.3MB/s eta 0:00:01\r\u001b[K     |███████████████████             | 952kB 4.3MB/s eta 0:00:01\r\u001b[K     |███████████████████▏            | 962kB 4.3MB/s eta 0:00:01\r\u001b[K     |███████████████████▎            | 972kB 4.3MB/s eta 0:00:01\r\u001b[K     |███████████████████▌            | 983kB 4.3MB/s eta 0:00:01\r\u001b[K     |███████████████████▊            | 993kB 4.3MB/s eta 0:00:01\r\u001b[K     |████████████████████            | 1.0MB 4.3MB/s eta 0:00:01\r\u001b[K     |████████████████████▏           | 1.0MB 4.3MB/s eta 0:00:01\r\u001b[K     |████████████████████▍           | 1.0MB 4.3MB/s eta 0:00:01\r\u001b[K     |████████████████████▌           | 1.0MB 4.3MB/s eta 0:00:01\r\u001b[K     |████████████████████▊           | 1.0MB 4.3MB/s eta 0:00:01\r\u001b[K     |█████████████████████           | 1.1MB 4.3MB/s eta 0:00:01\r\u001b[K     |█████████████████████▏          | 1.1MB 4.3MB/s eta 0:00:01\r\u001b[K     |█████████████████████▍          | 1.1MB 4.3MB/s eta 0:00:01\r\u001b[K     |█████████████████████▋          | 1.1MB 4.3MB/s eta 0:00:01\r\u001b[K     |█████████████████████▊          | 1.1MB 4.3MB/s eta 0:00:01\r\u001b[K     |██████████████████████          | 1.1MB 4.3MB/s eta 0:00:01\r\u001b[K     |██████████████████████▏         | 1.1MB 4.3MB/s eta 0:00:01\r\u001b[K     |██████████████████████▍         | 1.1MB 4.3MB/s eta 0:00:01\r\u001b[K     |██████████████████████▋         | 1.1MB 4.3MB/s eta 0:00:01\r\u001b[K     |██████████████████████▉         | 1.1MB 4.3MB/s eta 0:00:01\r\u001b[K     |███████████████████████         | 1.2MB 4.3MB/s eta 0:00:01\r\u001b[K     |███████████████████████▏        | 1.2MB 4.3MB/s eta 0:00:01\r\u001b[K     |███████████████████████▍        | 1.2MB 4.3MB/s eta 0:00:01\r\u001b[K     |███████████████████████▋        | 1.2MB 4.3MB/s eta 0:00:01\r\u001b[K     |███████████████████████▉        | 1.2MB 4.3MB/s eta 0:00:01\r\u001b[K     |████████████████████████        | 1.2MB 4.3MB/s eta 0:00:01\r\u001b[K     |████████████████████████▏       | 1.2MB 4.3MB/s eta 0:00:01\r\u001b[K     |████████████████████████▍       | 1.2MB 4.3MB/s eta 0:00:01\r\u001b[K     |████████████████████████▋       | 1.2MB 4.3MB/s eta 0:00:01\r\u001b[K     |████████████████████████▉       | 1.2MB 4.3MB/s eta 0:00:01\r\u001b[K     |█████████████████████████       | 1.3MB 4.3MB/s eta 0:00:01\r\u001b[K     |█████████████████████████▎      | 1.3MB 4.3MB/s eta 0:00:01\r\u001b[K     |█████████████████████████▍      | 1.3MB 4.3MB/s eta 0:00:01\r\u001b[K     |█████████████████████████▋      | 1.3MB 4.3MB/s eta 0:00:01\r\u001b[K     |█████████████████████████▉      | 1.3MB 4.3MB/s eta 0:00:01\r\u001b[K     |██████████████████████████      | 1.3MB 4.3MB/s eta 0:00:01\r\u001b[K     |██████████████████████████▎     | 1.3MB 4.3MB/s eta 0:00:01\r\u001b[K     |██████████████████████████▌     | 1.3MB 4.3MB/s eta 0:00:01\r\u001b[K     |██████████████████████████▋     | 1.3MB 4.3MB/s eta 0:00:01\r\u001b[K     |██████████████████████████▉     | 1.4MB 4.3MB/s eta 0:00:01\r\u001b[K     |███████████████████████████     | 1.4MB 4.3MB/s eta 0:00:01\r\u001b[K     |███████████████████████████▎    | 1.4MB 4.3MB/s eta 0:00:01\r\u001b[K     |███████████████████████████▌    | 1.4MB 4.3MB/s eta 0:00:01\r\u001b[K     |███████████████████████████▋    | 1.4MB 4.3MB/s eta 0:00:01\r\u001b[K     |███████████████████████████▉    | 1.4MB 4.3MB/s eta 0:00:01\r\u001b[K     |████████████████████████████    | 1.4MB 4.3MB/s eta 0:00:01\r\u001b[K     |████████████████████████████▎   | 1.4MB 4.3MB/s eta 0:00:01\r\u001b[K     |████████████████████████████▌   | 1.4MB 4.3MB/s eta 0:00:01\r\u001b[K     |████████████████████████████▊   | 1.4MB 4.3MB/s eta 0:00:01\r\u001b[K     |████████████████████████████▉   | 1.5MB 4.3MB/s eta 0:00:01\r\u001b[K     |█████████████████████████████   | 1.5MB 4.3MB/s eta 0:00:01\r\u001b[K     |█████████████████████████████▎  | 1.5MB 4.3MB/s eta 0:00:01\r\u001b[K     |█████████████████████████████▌  | 1.5MB 4.3MB/s eta 0:00:01\r\u001b[K     |█████████████████████████████▊  | 1.5MB 4.3MB/s eta 0:00:01\r\u001b[K     |██████████████████████████████  | 1.5MB 4.3MB/s eta 0:00:01\r\u001b[K     |██████████████████████████████  | 1.5MB 4.3MB/s eta 0:00:01\r\u001b[K     |██████████████████████████████▎ | 1.5MB 4.3MB/s eta 0:00:01\r\u001b[K     |██████████████████████████████▌ | 1.5MB 4.3MB/s eta 0:00:01\r\u001b[K     |██████████████████████████████▊ | 1.5MB 4.3MB/s eta 0:00:01\r\u001b[K     |███████████████████████████████ | 1.6MB 4.3MB/s eta 0:00:01\r\u001b[K     |███████████████████████████████▏| 1.6MB 4.3MB/s eta 0:00:01\r\u001b[K     |███████████████████████████████▎| 1.6MB 4.3MB/s eta 0:00:01\r\u001b[K     |███████████████████████████████▌| 1.6MB 4.3MB/s eta 0:00:01\r\u001b[K     |███████████████████████████████▊| 1.6MB 4.3MB/s eta 0:00:01\r\u001b[K     |████████████████████████████████| 1.6MB 4.3MB/s eta 0:00:01\r\u001b[K     |████████████████████████████████| 1.6MB 4.3MB/s \n",
            "\u001b[?25hRequirement already satisfied, skipping upgrade: numpy>=1.17 in /usr/local/lib/python3.7/dist-packages (from cupy) (1.19.5)\n",
            "Requirement already satisfied, skipping upgrade: fastrlock>=0.5 in /usr/local/lib/python3.7/dist-packages (from cupy) (0.6)\n",
            "Building wheels for collected packages: cupy\n",
            "  Building wheel for cupy (setup.py) ... \u001b[?25l\u001b[?25hdone\n",
            "  Created wheel for cupy: filename=cupy-9.0.0-cp37-cp37m-linux_x86_64.whl size=74087374 sha256=4b227d408469c15dae0981ac383ebd3a97eaabe371d73d01a868994b93f32a55\n",
            "  Stored in directory: /root/.cache/pip/wheels/94/2c/e4/da6ddccc2b9bf0e667b8a4c1ee56da9e5e3997578c3664f688\n",
            "Successfully built cupy\n",
            "Installing collected packages: cupy\n",
            "Successfully installed cupy-9.0.0\n"
          ],
          "name": "stdout"
        },
        {
          "output_type": "display_data",
          "data": {
            "application/vnd.colab-display-data+json": {
              "pip_warning": {
                "packages": [
                  "cupy",
                  "cupyx"
                ]
              }
            }
          },
          "metadata": {
            "tags": []
          }
        },
        {
          "output_type": "stream",
          "text": [
            "Collecting line_profiler\n",
            "\u001b[?25l  Downloading https://files.pythonhosted.org/packages/38/37/6a018065a3b26d4566b4a7f51645ddd26ec6b7d141c9e57a9733714475e1/line_profiler-3.2.6-cp37-cp37m-manylinux2010_x86_64.whl (63kB)\n",
            "\r\u001b[K     |█████▏                          | 10kB 23.7MB/s eta 0:00:01\r\u001b[K     |██████████▎                     | 20kB 10.2MB/s eta 0:00:01\r\u001b[K     |███████████████▍                | 30kB 8.3MB/s eta 0:00:01\r\u001b[K     |████████████████████▌           | 40kB 7.6MB/s eta 0:00:01\r\u001b[K     |█████████████████████████▊      | 51kB 4.0MB/s eta 0:00:01\r\u001b[K     |██████████████████████████████▉ | 61kB 4.5MB/s eta 0:00:01\r\u001b[K     |████████████████████████████████| 71kB 3.7MB/s \n",
            "\u001b[?25hRequirement already satisfied: IPython>=0.13; python_version >= \"3.7\" in /usr/local/lib/python3.7/dist-packages (from line_profiler) (5.5.0)\n",
            "Requirement already satisfied: traitlets>=4.2 in /usr/local/lib/python3.7/dist-packages (from IPython>=0.13; python_version >= \"3.7\"->line_profiler) (5.0.5)\n",
            "Requirement already satisfied: prompt-toolkit<2.0.0,>=1.0.4 in /usr/local/lib/python3.7/dist-packages (from IPython>=0.13; python_version >= \"3.7\"->line_profiler) (1.0.18)\n",
            "Requirement already satisfied: setuptools>=18.5 in /usr/local/lib/python3.7/dist-packages (from IPython>=0.13; python_version >= \"3.7\"->line_profiler) (56.1.0)\n",
            "Requirement already satisfied: pygments in /usr/local/lib/python3.7/dist-packages (from IPython>=0.13; python_version >= \"3.7\"->line_profiler) (2.6.1)\n",
            "Requirement already satisfied: pexpect; sys_platform != \"win32\" in /usr/local/lib/python3.7/dist-packages (from IPython>=0.13; python_version >= \"3.7\"->line_profiler) (4.8.0)\n",
            "Requirement already satisfied: simplegeneric>0.8 in /usr/local/lib/python3.7/dist-packages (from IPython>=0.13; python_version >= \"3.7\"->line_profiler) (0.8.1)\n",
            "Requirement already satisfied: pickleshare in /usr/local/lib/python3.7/dist-packages (from IPython>=0.13; python_version >= \"3.7\"->line_profiler) (0.7.5)\n",
            "Requirement already satisfied: decorator in /usr/local/lib/python3.7/dist-packages (from IPython>=0.13; python_version >= \"3.7\"->line_profiler) (4.4.2)\n",
            "Requirement already satisfied: ipython-genutils in /usr/local/lib/python3.7/dist-packages (from traitlets>=4.2->IPython>=0.13; python_version >= \"3.7\"->line_profiler) (0.2.0)\n",
            "Requirement already satisfied: wcwidth in /usr/local/lib/python3.7/dist-packages (from prompt-toolkit<2.0.0,>=1.0.4->IPython>=0.13; python_version >= \"3.7\"->line_profiler) (0.2.5)\n",
            "Requirement already satisfied: six>=1.9.0 in /usr/local/lib/python3.7/dist-packages (from prompt-toolkit<2.0.0,>=1.0.4->IPython>=0.13; python_version >= \"3.7\"->line_profiler) (1.15.0)\n",
            "Requirement already satisfied: ptyprocess>=0.5 in /usr/local/lib/python3.7/dist-packages (from pexpect; sys_platform != \"win32\"->IPython>=0.13; python_version >= \"3.7\"->line_profiler) (0.7.0)\n",
            "Installing collected packages: line-profiler\n",
            "Successfully installed line-profiler-3.2.6\n"
          ],
          "name": "stdout"
        }
      ]
    },
    {
      "cell_type": "code",
      "metadata": {
        "id": "6vlinyF951W5"
      },
      "source": [
        "# !git clone https://github.com/annikabrundyn/autodiff.git\n",
        "\n",
        "# %cd autodiff/\n",
        "# !pip install -e .\n",
        "\n",
        "# from autodiff.utils import get_indices, im2col, col2im"
      ],
      "execution_count": null,
      "outputs": []
    },
    {
      "cell_type": "code",
      "metadata": {
        "id": "Fagzjz7QlhUN"
      },
      "source": [
        "# Utils\n",
        "\n",
        "def get_indices(X_shape, HF, WF, stride, pad):\n",
        "    \"\"\"\n",
        "        Returns index matrices in order to transform our input image into a matrix.\n",
        "        Parameters:\n",
        "        -X_shape: Input image shape.\n",
        "        -HF: filter height.\n",
        "        -WF: filter width.\n",
        "        -stride: stride value.\n",
        "        -pad: padding value.\n",
        "        Returns:\n",
        "        -i: matrix of index i.\n",
        "        -j: matrix of index j.\n",
        "        -d: matrix of index d.\n",
        "            (Use to mark delimitation for each channel\n",
        "            during multi-dimensional arrays indexing).\n",
        "    \"\"\"\n",
        "    # get input size\n",
        "    m, n_C, n_H, n_W = X_shape\n",
        "\n",
        "    # get output size\n",
        "    out_h = int((n_H + 2 * pad - HF) / stride) + 1\n",
        "    out_w = int((n_W + 2 * pad - WF) / stride) + 1\n",
        "\n",
        "    # ----Compute matrix of index i----\n",
        "\n",
        "    # Level 1 vector.\n",
        "    level1 = np.repeat(np.arange(HF), WF)\n",
        "    # Duplicate for the other channels.\n",
        "    level1 = np.tile(level1, n_C)\n",
        "    # Create a vector with an increase by 1 at each level.\n",
        "    everyLevels = stride * np.repeat(np.arange(out_h), out_w)\n",
        "    # Create matrix of index i at every levels for each channel.\n",
        "    i = level1.reshape(-1, 1) + everyLevels.reshape(1, -1)\n",
        "\n",
        "    # ----Compute matrix of index j----\n",
        "\n",
        "    # Slide 1 vector.\n",
        "    slide1 = np.tile(np.arange(WF), HF)\n",
        "    # Duplicate for the other channels.\n",
        "    slide1 = np.tile(slide1, n_C)\n",
        "    # Create a vector with an increase by 1 at each slide.\n",
        "    everySlides = stride * np.tile(np.arange(out_w), out_h)\n",
        "    # Create matrix of index j at every slides for each channel.\n",
        "    j = slide1.reshape(-1, 1) + everySlides.reshape(1, -1)\n",
        "\n",
        "    # ----Compute matrix of index d----\n",
        "\n",
        "    # This is to mark delimitation for each channel\n",
        "    # during multi-dimensional arrays indexing.\n",
        "    d = np.repeat(np.arange(n_C), HF * WF).reshape(-1, 1)\n",
        "\n",
        "    return i, j, d\n",
        "\n",
        "\n",
        "def im2col(X, HF, WF, stride, pad):\n",
        "    \"\"\"\n",
        "        Transforms our input image into a matrix.\n",
        "        Parameters:\n",
        "        - X: input image.\n",
        "        - HF: filter height.\n",
        "        - WF: filter width.\n",
        "        - stride: stride value.\n",
        "        - pad: padding value.\n",
        "        Returns:\n",
        "        -cols: output matrix.\n",
        "    \"\"\"\n",
        "    # Padding\n",
        "    X_padded = np.pad(X, ((0, 0), (0, 0), (pad, pad), (pad, pad)), mode='constant')\n",
        "    i, j, d = get_indices(X.shape, HF, WF, stride, pad)\n",
        "    # Multi-dimensional arrays indexing.\n",
        "    cols = X_padded[:, d, i, j]\n",
        "    cols = np.concatenate(cols, axis=-1)\n",
        "    return cols\n",
        "\n",
        "\n",
        "def col2im(dX_col, X_shape, HF, WF, stride, pad):\n",
        "    \"\"\"\n",
        "        Transform our matrix back to the input image.\n",
        "        Parameters:\n",
        "        - dX_col: matrix with error.\n",
        "        - X_shape: input image shape.\n",
        "        - HF: filter height.\n",
        "        - WF: filter width.\n",
        "        - stride: stride value.\n",
        "        - pad: padding value.\n",
        "        Returns:\n",
        "        -x_padded: input image with error.\n",
        "    \"\"\"\n",
        "    # Get input size\n",
        "    N, D, H, W = X_shape\n",
        "    # Add padding if needed.\n",
        "    H_padded, W_padded = H + 2 * pad, W + 2 * pad\n",
        "    X_padded = np.zeros((N, D, H_padded, W_padded))\n",
        "\n",
        "    # Index matrices, necessary to transform our input image into a matrix.\n",
        "    i, j, d = get_indices(X_shape, HF, WF, stride, pad)\n",
        "    # Retrieve batch dimension by spliting dX_col N times: (X, Y) => (N, X, Y)\n",
        "    dX_col_reshaped = np.array(np.hsplit(dX_col, N))\n",
        "    # Reshape our matrix back to image.\n",
        "    # slice(None) is used to produce the [::] effect which means \"for every elements\".\n",
        "    np.add.at(X_padded, (slice(None), d, i, j), dX_col_reshaped)\n",
        "    # Remove padding from new image if needed.\n",
        "    if pad == 0:\n",
        "        return X_padded\n",
        "    elif type(pad) is int:\n",
        "        return X_padded[pad:-pad, pad:-pad, :, :]"
      ],
      "execution_count": null,
      "outputs": []
    },
    {
      "cell_type": "code",
      "metadata": {
        "id": "gH-waDVrVthP"
      },
      "source": [
        "# Convolution, standard implementation\n",
        "\n",
        "@njit\n",
        "def convolution(X, W, b, in_ch, out_ch, filter_size, stride, pad):\n",
        "  \"\"\"\n",
        "  Computes convolution of filter over image using element-wise multiplication\n",
        "\n",
        "  Input:\n",
        "    - X: input image\n",
        "    - W: weight matrix\n",
        "    - b: bias vector\n",
        "    - in_ch: input channel\n",
        "    - out_ch: output channel\n",
        "    - filter_size: num rows/cols of square filter\n",
        "    - stride: stride value\n",
        "    - pad: padding value\n",
        "  Output:\n",
        "    - output matrix after the convolution\n",
        "  \"\"\"\n",
        "  batches, num_channels, prev_height, prev_width = X.shape\n",
        "\n",
        "  # Calculate output size.\n",
        "  height = int((prev_height + 2 * pad - filter_size) / stride) + 1\n",
        "  width = int((prev_width + 2 * pad - filter_size) / stride) + 1\n",
        "\n",
        "  out = np.zeros((batches, num_channels, prev_height, prev_width))\n",
        "\n",
        "  for i in range(batches):  # For each image.\n",
        "\n",
        "      for c in range(num_channels):  # For each channel.\n",
        "\n",
        "          for h in range(height):  # Slide the filter vertically.\n",
        "              h_start = h * stride\n",
        "              h_end = h_start + filter_size\n",
        "\n",
        "              for w in range(width):  # Slide the filter horizontally.\n",
        "                  w_start = w * stride\n",
        "                  w_end = w_start + filter_size\n",
        "\n",
        "                  # Element wise multiplication + sum.\n",
        "                  out[i, c, h, w] = np.sum(X[i, :, h_start:h_end, w_start:w_end]\n",
        "                                            * W[c, ...]) + b[c]\n",
        "  return out\n",
        "\n",
        "@njit(parallel=True)\n",
        "def convolution_parallel(X, W, b, in_ch, out_ch, filter_size, stride, pad):\n",
        "  \"\"\"\n",
        "  Computes convolution of filter over image using element-wise multiplication\n",
        "  using parallelization of for-loop.\n",
        "\n",
        "  Input:\n",
        "    - X: input image\n",
        "    - W: weight matrix\n",
        "    - b: bias vector\n",
        "    - in_ch: input channel\n",
        "    - out_ch: output channel\n",
        "    - filter_size: num rows/cols of square filter\n",
        "    - stride: stride value\n",
        "    - pad: padding value\n",
        "  Output:\n",
        "    - output matrix after the convolution\n",
        "  \"\"\"\n",
        "  batches, num_channels, prev_height, prev_width = X.shape\n",
        "\n",
        "  # Calculate output size.\n",
        "  height = int((prev_height + 2 * pad - filter_size) / stride) + 1\n",
        "  width = int((prev_width + 2 * pad - filter_size) / stride) + 1\n",
        "\n",
        "  out = np.zeros((batches, num_channels, prev_height, prev_width))\n",
        "\n",
        "  for i in range(batches):  # For each image.\n",
        "\n",
        "      for c in range(num_channels):  # For each channel.\n",
        "\n",
        "          for h in range(height):  # Slide the filter vertically.\n",
        "              h_start = h * stride\n",
        "              h_end = h_start + filter_size\n",
        "\n",
        "              for w in range(width):  # Slide the filter horizontally.\n",
        "                  w_start = w * stride\n",
        "                  w_end = w_start + filter_size\n",
        "\n",
        "                  # Element wise multiplication + sum.\n",
        "                  out[i, c, h, w] = np.sum(X[i, :, h_start:h_end, w_start:w_end]\n",
        "                                            * W[c, ...]) + b[c]\n",
        "  return out"
      ],
      "execution_count": null,
      "outputs": []
    },
    {
      "cell_type": "code",
      "metadata": {
        "id": "6qb7fs94Xb0T"
      },
      "source": [
        "# Set input image parameters\n",
        "out_ch = 5\n",
        "in_ch = 3\n",
        "filter_size = 3\n",
        "stride = 1\n",
        "pad = 0\n",
        "nsamples = 10\n",
        "img_dim = 28\n",
        "\n",
        "# Set random seed\n",
        "np.random.seed(42)\n",
        "\n",
        "# Initialize weights and bias\n",
        "W = np.random.rand(out_ch, in_ch, filter_size, filter_size)\n",
        "b = np.random.rand(out_ch)\n",
        "\n",
        "# Initialize input image with random values\n",
        "X = np.random.rand(nsamples, in_ch, img_dim, img_dim)"
      ],
      "execution_count": null,
      "outputs": []
    },
    {
      "cell_type": "code",
      "metadata": {
        "id": "IQqsowFXVRRj"
      },
      "source": [
        "# Im2Col Convolution\n",
        "\n",
        "@njit\n",
        "def im2col_convolution(X, W, b, in_ch, out_ch, filter_size, stride, pad):\n",
        "\n",
        "  batches, num_channels, prev_height, prev_width = X.shape\n",
        "\n",
        "  height = int((prev_height + 2 * pad - filter_size) / stride) + 1\n",
        "  width = int((prev_width + 2 * pad - filter_size) / stride) + 1\n",
        "\n",
        "  X_col = im2col(X, filter_size, filter_size, stride, pad)\n",
        "  w_col = W.reshape((out_ch, -1))\n",
        "  b_col = b.reshape(-1, 1)\n",
        "\n",
        "  # Perform matrix multiplication.\n",
        "  out = w_col @ X_col + b_col\n",
        "\n",
        "  # Reshape back matrix to image.\n",
        "  out = np.array(np.hsplit(out, batches)).reshape((batches, out_ch, height, width))\n",
        "\n",
        "  return out\n"
      ],
      "execution_count": null,
      "outputs": []
    },
    {
      "cell_type": "markdown",
      "metadata": {
        "id": "8LwxBfBMWN0N"
      },
      "source": [
        "# Regular Convolution"
      ]
    },
    {
      "cell_type": "code",
      "metadata": {
        "colab": {
          "base_uri": "https://localhost:8080/"
        },
        "id": "RUWUgmj5ZlsJ",
        "outputId": "11df752d-1f66-4a56-9924-8bc937f0167e"
      },
      "source": [
        "# Convolution without parallelization\n",
        "%timeit -n 100 convolution.py_func(X=X, W=W, b=b, in_ch=in_ch, out_ch=out_ch, filter_size=filter_size, stride=stride, pad=pad)"
      ],
      "execution_count": null,
      "outputs": [
        {
          "output_type": "stream",
          "text": [
            "100 loops, best of 5: 148 ms per loop\n"
          ],
          "name": "stdout"
        }
      ]
    },
    {
      "cell_type": "code",
      "metadata": {
        "id": "g6fSMxG_QCrW"
      },
      "source": [
        "# Line profiling\n",
        "%lprun -u 1e-3 -f convolution.py_func convolution.py_func(X=X, W=W, b=b, in_ch=in_ch, out_ch=out_ch, filter_size=filter_size, stride=stride, pad=pad)"
      ],
      "execution_count": null,
      "outputs": []
    },
    {
      "cell_type": "code",
      "metadata": {
        "colab": {
          "base_uri": "https://localhost:8080/"
        },
        "id": "SZg49lAYZaDB",
        "outputId": "f37fb5f2-53a6-4eb5-9c3e-3bfd3ac6185a"
      },
      "source": [
        "# Convolution with numba (not using parallelization)\n",
        "%timeit -n 100 convolution(X=X, W=W, b=b, in_ch=in_ch, out_ch=out_ch, filter_size=filter_size, stride=stride, pad=pad)"
      ],
      "execution_count": null,
      "outputs": [
        {
          "output_type": "stream",
          "text": [
            "100 loops, best of 5: 4.75 ms per loop\n"
          ],
          "name": "stdout"
        }
      ]
    },
    {
      "cell_type": "code",
      "metadata": {
        "colab": {
          "base_uri": "https://localhost:8080/"
        },
        "id": "XvsfVf_TUkXh",
        "outputId": "a9bf1da8-c996-4d1f-a189-f8c789259455"
      },
      "source": [
        "# Convolution with numba (using parallelization)\n",
        "%timeit -n 100 convolution_parallel(X=X, W=W, b=b, in_ch=in_ch, out_ch=out_ch, filter_size=filter_size, stride=stride, pad=pad)"
      ],
      "execution_count": null,
      "outputs": [
        {
          "output_type": "stream",
          "text": [
            "/usr/local/lib/python3.7/dist-packages/numba/np/ufunc/parallel.py:363: NumbaWarning: The TBB threading layer requires TBB version 2019.5 or later i.e., TBB_INTERFACE_VERSION >= 11005. Found TBB_INTERFACE_VERSION = 9107. The TBB threading layer is disabled.\n",
            "  warnings.warn(problem)\n"
          ],
          "name": "stderr"
        },
        {
          "output_type": "stream",
          "text": [
            "100 loops, best of 5: 49.3 ms per loop\n"
          ],
          "name": "stdout"
        }
      ]
    },
    {
      "cell_type": "markdown",
      "metadata": {
        "id": "6wBS9_BNWYpd"
      },
      "source": [
        "# Convolution using Im2Col  "
      ]
    },
    {
      "cell_type": "code",
      "metadata": {
        "id": "N11nhIlnWb0U"
      },
      "source": [
        "# Matrix multiplication (from Homework 10)\n",
        "\n",
        "@cuda.jit('(float32[:,:], float32[:,:], float32[:,:])')\n",
        "def matmul_gpu(A, B, C):\n",
        "    \"\"\"\n",
        "    Perform matrix multiplication of C = A * B\n",
        "    \"\"\"\n",
        "    row, col = cuda.grid(2)\n",
        "    if row < C.shape[0] and col < C.shape[1]:\n",
        "        tmp = 0.\n",
        "        for k in range(A.shape[1]):\n",
        "            tmp += A[row, k] * B[k, col]\n",
        "        C[row, col] = tmp\n"
      ],
      "execution_count": null,
      "outputs": []
    },
    {
      "cell_type": "code",
      "metadata": {
        "id": "Owy6nmLeg22O",
        "colab": {
          "base_uri": "https://localhost:8080/"
        },
        "outputId": "ec772e3b-84a4-437a-bb82-eb3b228e860c"
      },
      "source": [
        "# Convolution without parallelization\n",
        "%timeit -n 100 im2col_convolution.py_func(X=X, W=W, b=b, in_ch=in_ch, out_ch=out_ch, filter_size=filter_size, stride=stride, pad=pad)"
      ],
      "execution_count": null,
      "outputs": [
        {
          "output_type": "stream",
          "text": [
            "100 loops, best of 5: 2.32 ms per loop\n"
          ],
          "name": "stdout"
        }
      ]
    },
    {
      "cell_type": "code",
      "metadata": {
        "id": "9ZAThMrOhFCh"
      },
      "source": [
        "%lprun -u 1e-3 -f im2col_convolution.py_func im2col_convolution.py_func(X=X, W=W, b=b, in_ch=in_ch, out_ch=out_ch, filter_size=filter_size, stride=stride, pad=pad)"
      ],
      "execution_count": null,
      "outputs": []
    },
    {
      "cell_type": "markdown",
      "metadata": {
        "id": "9d1kQCR5msVI"
      },
      "source": [
        "# Im2Col using Numba"
      ]
    },
    {
      "cell_type": "code",
      "metadata": {
        "id": "1vE7yRKMcXqf"
      },
      "source": [
        "# CPU Host code: transform input image using Im2Col\n",
        "X_col = im2col(X=X, HF=filter_size, WF=filter_size, stride=stride, pad=pad)\n",
        "w_col = W.reshape(out_ch, -1)\n",
        "b_col = b.reshape(-1, 1)\n",
        "\n",
        "# Move data to GPU\n",
        "A_GPU = cuda.to_device(X_col) \n",
        "B_GPU = cuda.to_device(w_col)\n",
        "C_GPU = cuda.to_device(np.zeros((w_col.shape[0],X_col.shape[1]), dtype=np.float32))\n",
        "\n",
        "# Configure thread blocks for CUDA\n",
        "threadsperblock = (1, 256)\n",
        "blockspergrid_x = int(math.ceil(A_GPU.shape[0] / threadsperblock[0]))\n",
        "blockspergrid_y = int(math.ceil(B_GPU.shape[1] / threadsperblock[1]))\n",
        "blockspergrid = (blockspergrid_x, blockspergrid_y)"
      ],
      "execution_count": null,
      "outputs": []
    },
    {
      "cell_type": "code",
      "metadata": {
        "id": "7cZOpmHIXIWR",
        "colab": {
          "base_uri": "https://localhost:8080/",
          "height": 406
        },
        "outputId": "64d60fa0-335a-4177-e7ea-75f9cf0d2f74"
      },
      "source": [
        "%%timeit\n",
        "# Convolution with numba and parallelization\n",
        "matmul_gpu[blockspergrid, threadsperblock](A_GPU,B_GPU, C_GPU)\n",
        "cuda.synchronize()"
      ],
      "execution_count": null,
      "outputs": [
        {
          "output_type": "error",
          "ename": "CudaAPIError",
          "evalue": "ignored",
          "traceback": [
            "\u001b[0;31m---------------------------------------------------------------------------\u001b[0m",
            "\u001b[0;31mCudaAPIError\u001b[0m                              Traceback (most recent call last)",
            "\u001b[0;32m<ipython-input-17-8410b0e1385a>\u001b[0m in \u001b[0;36m<module>\u001b[0;34m()\u001b[0m\n\u001b[0;32m----> 1\u001b[0;31m \u001b[0mget_ipython\u001b[0m\u001b[0;34m(\u001b[0m\u001b[0;34m)\u001b[0m\u001b[0;34m.\u001b[0m\u001b[0mrun_cell_magic\u001b[0m\u001b[0;34m(\u001b[0m\u001b[0;34m'timeit'\u001b[0m\u001b[0;34m,\u001b[0m \u001b[0;34m''\u001b[0m\u001b[0;34m,\u001b[0m \u001b[0;34m'# Convolution with numba and parallelization\\nmatmul_gpu[blockspergrid, threadsperblock](A_GPU,B_GPU, C_GPU)\\ncuda.synchronize()'\u001b[0m\u001b[0;34m)\u001b[0m\u001b[0;34m\u001b[0m\u001b[0;34m\u001b[0m\u001b[0m\n\u001b[0m",
            "\u001b[0;32m/usr/local/lib/python3.7/dist-packages/IPython/core/interactiveshell.py\u001b[0m in \u001b[0;36mrun_cell_magic\u001b[0;34m(self, magic_name, line, cell)\u001b[0m\n\u001b[1;32m   2115\u001b[0m             \u001b[0mmagic_arg_s\u001b[0m \u001b[0;34m=\u001b[0m \u001b[0mself\u001b[0m\u001b[0;34m.\u001b[0m\u001b[0mvar_expand\u001b[0m\u001b[0;34m(\u001b[0m\u001b[0mline\u001b[0m\u001b[0;34m,\u001b[0m \u001b[0mstack_depth\u001b[0m\u001b[0;34m)\u001b[0m\u001b[0;34m\u001b[0m\u001b[0;34m\u001b[0m\u001b[0m\n\u001b[1;32m   2116\u001b[0m             \u001b[0;32mwith\u001b[0m \u001b[0mself\u001b[0m\u001b[0;34m.\u001b[0m\u001b[0mbuiltin_trap\u001b[0m\u001b[0;34m:\u001b[0m\u001b[0;34m\u001b[0m\u001b[0;34m\u001b[0m\u001b[0m\n\u001b[0;32m-> 2117\u001b[0;31m                 \u001b[0mresult\u001b[0m \u001b[0;34m=\u001b[0m \u001b[0mfn\u001b[0m\u001b[0;34m(\u001b[0m\u001b[0mmagic_arg_s\u001b[0m\u001b[0;34m,\u001b[0m \u001b[0mcell\u001b[0m\u001b[0;34m)\u001b[0m\u001b[0;34m\u001b[0m\u001b[0;34m\u001b[0m\u001b[0m\n\u001b[0m\u001b[1;32m   2118\u001b[0m             \u001b[0;32mreturn\u001b[0m \u001b[0mresult\u001b[0m\u001b[0;34m\u001b[0m\u001b[0;34m\u001b[0m\u001b[0m\n\u001b[1;32m   2119\u001b[0m \u001b[0;34m\u001b[0m\u001b[0m\n",
            "\u001b[0;32m<decorator-gen-52>\u001b[0m in \u001b[0;36mtimeit\u001b[0;34m(self, line, cell)\u001b[0m\n",
            "\u001b[0;32m/usr/local/lib/python3.7/dist-packages/IPython/core/magic.py\u001b[0m in \u001b[0;36m<lambda>\u001b[0;34m(f, *a, **k)\u001b[0m\n\u001b[1;32m    186\u001b[0m     \u001b[0;31m# but it's overkill for just that one bit of state.\u001b[0m\u001b[0;34m\u001b[0m\u001b[0;34m\u001b[0m\u001b[0;34m\u001b[0m\u001b[0m\n\u001b[1;32m    187\u001b[0m     \u001b[0;32mdef\u001b[0m \u001b[0mmagic_deco\u001b[0m\u001b[0;34m(\u001b[0m\u001b[0marg\u001b[0m\u001b[0;34m)\u001b[0m\u001b[0;34m:\u001b[0m\u001b[0;34m\u001b[0m\u001b[0;34m\u001b[0m\u001b[0m\n\u001b[0;32m--> 188\u001b[0;31m         \u001b[0mcall\u001b[0m \u001b[0;34m=\u001b[0m \u001b[0;32mlambda\u001b[0m \u001b[0mf\u001b[0m\u001b[0;34m,\u001b[0m \u001b[0;34m*\u001b[0m\u001b[0ma\u001b[0m\u001b[0;34m,\u001b[0m \u001b[0;34m**\u001b[0m\u001b[0mk\u001b[0m\u001b[0;34m:\u001b[0m \u001b[0mf\u001b[0m\u001b[0;34m(\u001b[0m\u001b[0;34m*\u001b[0m\u001b[0ma\u001b[0m\u001b[0;34m,\u001b[0m \u001b[0;34m**\u001b[0m\u001b[0mk\u001b[0m\u001b[0;34m)\u001b[0m\u001b[0;34m\u001b[0m\u001b[0;34m\u001b[0m\u001b[0m\n\u001b[0m\u001b[1;32m    189\u001b[0m \u001b[0;34m\u001b[0m\u001b[0m\n\u001b[1;32m    190\u001b[0m         \u001b[0;32mif\u001b[0m \u001b[0mcallable\u001b[0m\u001b[0;34m(\u001b[0m\u001b[0marg\u001b[0m\u001b[0;34m)\u001b[0m\u001b[0;34m:\u001b[0m\u001b[0;34m\u001b[0m\u001b[0;34m\u001b[0m\u001b[0m\n",
            "\u001b[0;32m/usr/local/lib/python3.7/dist-packages/IPython/core/magics/execution.py\u001b[0m in \u001b[0;36mtimeit\u001b[0;34m(self, line, cell)\u001b[0m\n\u001b[1;32m   1055\u001b[0m             \u001b[0mnumber\u001b[0m \u001b[0;34m=\u001b[0m \u001b[0;36m1\u001b[0m\u001b[0;34m\u001b[0m\u001b[0;34m\u001b[0m\u001b[0m\n\u001b[1;32m   1056\u001b[0m             \u001b[0;32mfor\u001b[0m \u001b[0m_\u001b[0m \u001b[0;32min\u001b[0m \u001b[0mrange\u001b[0m\u001b[0;34m(\u001b[0m\u001b[0;36m1\u001b[0m\u001b[0;34m,\u001b[0m \u001b[0;36m10\u001b[0m\u001b[0;34m)\u001b[0m\u001b[0;34m:\u001b[0m\u001b[0;34m\u001b[0m\u001b[0;34m\u001b[0m\u001b[0m\n\u001b[0;32m-> 1057\u001b[0;31m                 \u001b[0mtime_number\u001b[0m \u001b[0;34m=\u001b[0m \u001b[0mtimer\u001b[0m\u001b[0;34m.\u001b[0m\u001b[0mtimeit\u001b[0m\u001b[0;34m(\u001b[0m\u001b[0mnumber\u001b[0m\u001b[0;34m)\u001b[0m\u001b[0;34m\u001b[0m\u001b[0;34m\u001b[0m\u001b[0m\n\u001b[0m\u001b[1;32m   1058\u001b[0m                 \u001b[0mworst_tuning\u001b[0m \u001b[0;34m=\u001b[0m \u001b[0mmax\u001b[0m\u001b[0;34m(\u001b[0m\u001b[0mworst_tuning\u001b[0m\u001b[0;34m,\u001b[0m \u001b[0mtime_number\u001b[0m \u001b[0;34m/\u001b[0m \u001b[0mnumber\u001b[0m\u001b[0;34m)\u001b[0m\u001b[0;34m\u001b[0m\u001b[0;34m\u001b[0m\u001b[0m\n\u001b[1;32m   1059\u001b[0m                 \u001b[0;32mif\u001b[0m \u001b[0mtime_number\u001b[0m \u001b[0;34m>=\u001b[0m \u001b[0;36m0.2\u001b[0m\u001b[0;34m:\u001b[0m\u001b[0;34m\u001b[0m\u001b[0;34m\u001b[0m\u001b[0m\n",
            "\u001b[0;32m/usr/local/lib/python3.7/dist-packages/IPython/core/magics/execution.py\u001b[0m in \u001b[0;36mtimeit\u001b[0;34m(self, number)\u001b[0m\n\u001b[1;32m    137\u001b[0m         \u001b[0mgc\u001b[0m\u001b[0;34m.\u001b[0m\u001b[0mdisable\u001b[0m\u001b[0;34m(\u001b[0m\u001b[0;34m)\u001b[0m\u001b[0;34m\u001b[0m\u001b[0;34m\u001b[0m\u001b[0m\n\u001b[1;32m    138\u001b[0m         \u001b[0;32mtry\u001b[0m\u001b[0;34m:\u001b[0m\u001b[0;34m\u001b[0m\u001b[0;34m\u001b[0m\u001b[0m\n\u001b[0;32m--> 139\u001b[0;31m             \u001b[0mtiming\u001b[0m \u001b[0;34m=\u001b[0m \u001b[0mself\u001b[0m\u001b[0;34m.\u001b[0m\u001b[0minner\u001b[0m\u001b[0;34m(\u001b[0m\u001b[0mit\u001b[0m\u001b[0;34m,\u001b[0m \u001b[0mself\u001b[0m\u001b[0;34m.\u001b[0m\u001b[0mtimer\u001b[0m\u001b[0;34m)\u001b[0m\u001b[0;34m\u001b[0m\u001b[0;34m\u001b[0m\u001b[0m\n\u001b[0m\u001b[1;32m    140\u001b[0m         \u001b[0;32mfinally\u001b[0m\u001b[0;34m:\u001b[0m\u001b[0;34m\u001b[0m\u001b[0;34m\u001b[0m\u001b[0m\n\u001b[1;32m    141\u001b[0m             \u001b[0;32mif\u001b[0m \u001b[0mgcold\u001b[0m\u001b[0;34m:\u001b[0m\u001b[0;34m\u001b[0m\u001b[0;34m\u001b[0m\u001b[0m\n",
            "\u001b[0;32m<magic-timeit>\u001b[0m in \u001b[0;36minner\u001b[0;34m(_it, _timer)\u001b[0m\n",
            "\u001b[0;32m/usr/local/lib/python3.7/dist-packages/numba/cuda/api.py\u001b[0m in \u001b[0;36msynchronize\u001b[0;34m()\u001b[0m\n\u001b[1;32m    196\u001b[0m \u001b[0;32mdef\u001b[0m \u001b[0msynchronize\u001b[0m\u001b[0;34m(\u001b[0m\u001b[0;34m)\u001b[0m\u001b[0;34m:\u001b[0m\u001b[0;34m\u001b[0m\u001b[0;34m\u001b[0m\u001b[0m\n\u001b[1;32m    197\u001b[0m     \u001b[0;34m\"Synchronize the current context.\"\u001b[0m\u001b[0;34m\u001b[0m\u001b[0;34m\u001b[0m\u001b[0m\n\u001b[0;32m--> 198\u001b[0;31m     \u001b[0;32mreturn\u001b[0m \u001b[0mcurrent_context\u001b[0m\u001b[0;34m(\u001b[0m\u001b[0;34m)\u001b[0m\u001b[0;34m.\u001b[0m\u001b[0msynchronize\u001b[0m\u001b[0;34m(\u001b[0m\u001b[0;34m)\u001b[0m\u001b[0;34m\u001b[0m\u001b[0;34m\u001b[0m\u001b[0m\n\u001b[0m\u001b[1;32m    199\u001b[0m \u001b[0;34m\u001b[0m\u001b[0m\n\u001b[1;32m    200\u001b[0m \u001b[0;34m\u001b[0m\u001b[0m\n",
            "\u001b[0;32m/usr/local/lib/python3.7/dist-packages/numba/cuda/cudadrv/driver.py\u001b[0m in \u001b[0;36msynchronize\u001b[0;34m(self)\u001b[0m\n\u001b[1;32m   1193\u001b[0m \u001b[0;34m\u001b[0m\u001b[0m\n\u001b[1;32m   1194\u001b[0m     \u001b[0;32mdef\u001b[0m \u001b[0msynchronize\u001b[0m\u001b[0;34m(\u001b[0m\u001b[0mself\u001b[0m\u001b[0;34m)\u001b[0m\u001b[0;34m:\u001b[0m\u001b[0;34m\u001b[0m\u001b[0;34m\u001b[0m\u001b[0m\n\u001b[0;32m-> 1195\u001b[0;31m         \u001b[0mdriver\u001b[0m\u001b[0;34m.\u001b[0m\u001b[0mcuCtxSynchronize\u001b[0m\u001b[0;34m(\u001b[0m\u001b[0;34m)\u001b[0m\u001b[0;34m\u001b[0m\u001b[0;34m\u001b[0m\u001b[0m\n\u001b[0m\u001b[1;32m   1196\u001b[0m \u001b[0;34m\u001b[0m\u001b[0m\n\u001b[1;32m   1197\u001b[0m     \u001b[0;34m@\u001b[0m\u001b[0mcontextlib\u001b[0m\u001b[0;34m.\u001b[0m\u001b[0mcontextmanager\u001b[0m\u001b[0;34m\u001b[0m\u001b[0;34m\u001b[0m\u001b[0m\n",
            "\u001b[0;32m/usr/local/lib/python3.7/dist-packages/numba/cuda/cudadrv/driver.py\u001b[0m in \u001b[0;36msafe_cuda_api_call\u001b[0;34m(*args)\u001b[0m\n\u001b[1;32m    300\u001b[0m             \u001b[0m_logger\u001b[0m\u001b[0;34m.\u001b[0m\u001b[0mdebug\u001b[0m\u001b[0;34m(\u001b[0m\u001b[0;34m'call driver api: %s'\u001b[0m\u001b[0;34m,\u001b[0m \u001b[0mlibfn\u001b[0m\u001b[0;34m.\u001b[0m\u001b[0m__name__\u001b[0m\u001b[0;34m)\u001b[0m\u001b[0;34m\u001b[0m\u001b[0;34m\u001b[0m\u001b[0m\n\u001b[1;32m    301\u001b[0m             \u001b[0mretcode\u001b[0m \u001b[0;34m=\u001b[0m \u001b[0mlibfn\u001b[0m\u001b[0;34m(\u001b[0m\u001b[0;34m*\u001b[0m\u001b[0margs\u001b[0m\u001b[0;34m)\u001b[0m\u001b[0;34m\u001b[0m\u001b[0;34m\u001b[0m\u001b[0m\n\u001b[0;32m--> 302\u001b[0;31m             \u001b[0mself\u001b[0m\u001b[0;34m.\u001b[0m\u001b[0m_check_error\u001b[0m\u001b[0;34m(\u001b[0m\u001b[0mfname\u001b[0m\u001b[0;34m,\u001b[0m \u001b[0mretcode\u001b[0m\u001b[0;34m)\u001b[0m\u001b[0;34m\u001b[0m\u001b[0;34m\u001b[0m\u001b[0m\n\u001b[0m\u001b[1;32m    303\u001b[0m         \u001b[0;32mreturn\u001b[0m \u001b[0msafe_cuda_api_call\u001b[0m\u001b[0;34m\u001b[0m\u001b[0;34m\u001b[0m\u001b[0m\n\u001b[1;32m    304\u001b[0m \u001b[0;34m\u001b[0m\u001b[0m\n",
            "\u001b[0;32m/usr/local/lib/python3.7/dist-packages/numba/cuda/cudadrv/driver.py\u001b[0m in \u001b[0;36m_check_error\u001b[0;34m(self, fname, retcode)\u001b[0m\n\u001b[1;32m    335\u001b[0m                     \u001b[0m_logger\u001b[0m\u001b[0;34m.\u001b[0m\u001b[0mcritical\u001b[0m\u001b[0;34m(\u001b[0m\u001b[0mmsg\u001b[0m\u001b[0;34m,\u001b[0m \u001b[0m_getpid\u001b[0m\u001b[0;34m(\u001b[0m\u001b[0;34m)\u001b[0m\u001b[0;34m,\u001b[0m \u001b[0mself\u001b[0m\u001b[0;34m.\u001b[0m\u001b[0mpid\u001b[0m\u001b[0;34m)\u001b[0m\u001b[0;34m\u001b[0m\u001b[0;34m\u001b[0m\u001b[0m\n\u001b[1;32m    336\u001b[0m                     \u001b[0;32mraise\u001b[0m \u001b[0mCudaDriverError\u001b[0m\u001b[0;34m(\u001b[0m\u001b[0;34m\"CUDA initialized before forking\"\u001b[0m\u001b[0;34m)\u001b[0m\u001b[0;34m\u001b[0m\u001b[0;34m\u001b[0m\u001b[0m\n\u001b[0;32m--> 337\u001b[0;31m             \u001b[0;32mraise\u001b[0m \u001b[0mCudaAPIError\u001b[0m\u001b[0;34m(\u001b[0m\u001b[0mretcode\u001b[0m\u001b[0;34m,\u001b[0m \u001b[0mmsg\u001b[0m\u001b[0;34m)\u001b[0m\u001b[0;34m\u001b[0m\u001b[0;34m\u001b[0m\u001b[0m\n\u001b[0m\u001b[1;32m    338\u001b[0m \u001b[0;34m\u001b[0m\u001b[0m\n\u001b[1;32m    339\u001b[0m     \u001b[0;32mdef\u001b[0m \u001b[0mget_device\u001b[0m\u001b[0;34m(\u001b[0m\u001b[0mself\u001b[0m\u001b[0;34m,\u001b[0m \u001b[0mdevnum\u001b[0m\u001b[0;34m=\u001b[0m\u001b[0;36m0\u001b[0m\u001b[0;34m)\u001b[0m\u001b[0;34m:\u001b[0m\u001b[0;34m\u001b[0m\u001b[0;34m\u001b[0m\u001b[0m\n",
            "\u001b[0;31mCudaAPIError\u001b[0m: [700] Call to cuCtxSynchronize results in UNKNOWN_CUDA_ERROR"
          ]
        }
      ]
    },
    {
      "cell_type": "markdown",
      "metadata": {
        "id": "GlicsIsmmmhC"
      },
      "source": [
        "# Im2Col using CuPy"
      ]
    },
    {
      "cell_type": "code",
      "metadata": {
        "id": "KH-39J8Vz4bX"
      },
      "source": [
        "# CPU Host code: transform input image using Im2Col\n",
        "X_col = im2col(X=X, HF=filter_size, WF=filter_size, stride=stride, pad=pad)\n",
        "w_col = W.reshape(out_ch, -1)\n",
        "b_col = b.reshape(-1, 1)\n",
        "\n",
        "# Move data to GPU\n",
        "A_GPU = cp.asarray(X_col) \n",
        "B_GPU = cp.asarray(w_col)\n",
        "C_GPU = cp.asarray(np.zeros((w_col.shape[0],X_col.shape[1]), dtype=np.float32))\n",
        "\n",
        "# Configure thread blocks for CUDA\n",
        "threadsperblock = (1, 256)\n",
        "blockspergrid_x = int(math.ceil(A_GPU.shape[0] / threadsperblock[0]))\n",
        "blockspergrid_y = int(math.ceil(B_GPU.shape[1] / threadsperblock[1]))\n",
        "blockspergrid = (blockspergrid_x, blockspergrid_y)"
      ],
      "execution_count": null,
      "outputs": []
    },
    {
      "cell_type": "code",
      "metadata": {
        "id": "G7P_kwIs0ISj"
      },
      "source": [
        "# Convolution with CuPy and parallelization\n",
        "%%timeit\n",
        "C_GPU = cp.matmul(B_GPU,A_GPU)\n",
        "cuda.synchronize()"
      ],
      "execution_count": null,
      "outputs": []
    },
    {
      "cell_type": "code",
      "metadata": {
        "id": "QKRDFdV-q0tO"
      },
      "source": [
        ""
      ],
      "execution_count": null,
      "outputs": []
    }
  ]
}