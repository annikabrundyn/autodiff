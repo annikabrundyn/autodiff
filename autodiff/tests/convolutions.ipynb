{
  "nbformat": 4,
  "nbformat_minor": 0,
  "metadata": {
    "colab": {
      "name": "convolution.ipynb",
      "provenance": [],
      "collapsed_sections": [],
      "include_colab_link": true
    },
    "kernelspec": {
      "name": "python3",
      "display_name": "Python 3"
    },
    "accelerator": "GPU"
  },
  "cells": [
    {
      "cell_type": "markdown",
      "metadata": {
        "id": "view-in-github",
        "colab_type": "text"
      },
      "source": [
        "<a href=\"https://colab.research.google.com/github/annikabrundyn/autodiff/blob/conv/autodiff/tests/convolutions.ipynb\" target=\"_parent\"><img src=\"https://colab.research.google.com/assets/colab-badge.svg\" alt=\"Open In Colab\"/></a>"
      ]
    },
    {
      "cell_type": "code",
      "metadata": {
        "id": "JMixWhjQeAbb",
        "colab": {
          "base_uri": "https://localhost:8080/"
        },
        "outputId": "f1ee8379-ace3-40a9-93a4-8161ef1dcefd"
      },
      "source": [
        "!nvidia-smi"
      ],
      "execution_count": null,
      "outputs": [
        {
          "output_type": "stream",
          "text": [
            "Thu May 13 17:37:31 2021       \n",
            "+-----------------------------------------------------------------------------+\n",
            "| NVIDIA-SMI 465.19.01    Driver Version: 460.32.03    CUDA Version: 11.2     |\n",
            "|-------------------------------+----------------------+----------------------+\n",
            "| GPU  Name        Persistence-M| Bus-Id        Disp.A | Volatile Uncorr. ECC |\n",
            "| Fan  Temp  Perf  Pwr:Usage/Cap|         Memory-Usage | GPU-Util  Compute M. |\n",
            "|                               |                      |               MIG M. |\n",
            "|===============================+======================+======================|\n",
            "|   0  Tesla P100-PCIE...  Off  | 00000000:00:04.0 Off |                    0 |\n",
            "| N/A   37C    P0    28W / 250W |      0MiB / 16280MiB |      0%      Default |\n",
            "|                               |                      |                  N/A |\n",
            "+-------------------------------+----------------------+----------------------+\n",
            "                                                                               \n",
            "+-----------------------------------------------------------------------------+\n",
            "| Processes:                                                                  |\n",
            "|  GPU   GI   CI        PID   Type   Process name                  GPU Memory |\n",
            "|        ID   ID                                                   Usage      |\n",
            "|=============================================================================|\n",
            "|  No running processes found                                                 |\n",
            "+-----------------------------------------------------------------------------+\n"
          ],
          "name": "stdout"
        }
      ]
    },
    {
      "cell_type": "code",
      "metadata": {
        "id": "44vQQA4EeLzb"
      },
      "source": [
        "import numpy as np\n",
        "from numba import jit, njit, prange, cuda\n",
        "import cupy as cp\n",
        "from cupy import multiply\n",
        "import math"
      ],
      "execution_count": null,
      "outputs": []
    },
    {
      "cell_type": "code",
      "metadata": {
        "id": "eC_vlhDw9_ca",
        "colab": {
          "base_uri": "https://localhost:8080/"
        },
        "outputId": "bd64da8b-a71b-4823-e743-45a4ac6a9566"
      },
      "source": [
        "!pip install -U cupy\n",
        "!pip install line_profiler\n",
        "%load_ext line_profiler"
      ],
      "execution_count": null,
      "outputs": [
        {
          "output_type": "stream",
          "text": [
            "Collecting line_profiler\n",
            "\u001b[?25l  Downloading https://files.pythonhosted.org/packages/38/37/6a018065a3b26d4566b4a7f51645ddd26ec6b7d141c9e57a9733714475e1/line_profiler-3.2.6-cp37-cp37m-manylinux2010_x86_64.whl (63kB)\n",
            "\r\u001b[K     |█████▏                          | 10kB 18.1MB/s eta 0:00:01\r\u001b[K     |██████████▎                     | 20kB 25.7MB/s eta 0:00:01\r\u001b[K     |███████████████▍                | 30kB 29.9MB/s eta 0:00:01\r\u001b[K     |████████████████████▌           | 40kB 20.4MB/s eta 0:00:01\r\u001b[K     |█████████████████████████▊      | 51kB 9.2MB/s eta 0:00:01\r\u001b[K     |██████████████████████████████▉ | 61kB 8.5MB/s eta 0:00:01\r\u001b[K     |████████████████████████████████| 71kB 5.9MB/s \n",
            "\u001b[?25hRequirement already satisfied: IPython>=0.13; python_version >= \"3.7\" in /usr/local/lib/python3.7/dist-packages (from line_profiler) (5.5.0)\n",
            "Requirement already satisfied: simplegeneric>0.8 in /usr/local/lib/python3.7/dist-packages (from IPython>=0.13; python_version >= \"3.7\"->line_profiler) (0.8.1)\n",
            "Requirement already satisfied: traitlets>=4.2 in /usr/local/lib/python3.7/dist-packages (from IPython>=0.13; python_version >= \"3.7\"->line_profiler) (5.0.5)\n",
            "Requirement already satisfied: prompt-toolkit<2.0.0,>=1.0.4 in /usr/local/lib/python3.7/dist-packages (from IPython>=0.13; python_version >= \"3.7\"->line_profiler) (1.0.18)\n",
            "Requirement already satisfied: pygments in /usr/local/lib/python3.7/dist-packages (from IPython>=0.13; python_version >= \"3.7\"->line_profiler) (2.6.1)\n",
            "Requirement already satisfied: pexpect; sys_platform != \"win32\" in /usr/local/lib/python3.7/dist-packages (from IPython>=0.13; python_version >= \"3.7\"->line_profiler) (4.8.0)\n",
            "Requirement already satisfied: pickleshare in /usr/local/lib/python3.7/dist-packages (from IPython>=0.13; python_version >= \"3.7\"->line_profiler) (0.7.5)\n",
            "Requirement already satisfied: decorator in /usr/local/lib/python3.7/dist-packages (from IPython>=0.13; python_version >= \"3.7\"->line_profiler) (4.4.2)\n",
            "Requirement already satisfied: setuptools>=18.5 in /usr/local/lib/python3.7/dist-packages (from IPython>=0.13; python_version >= \"3.7\"->line_profiler) (56.1.0)\n",
            "Requirement already satisfied: ipython-genutils in /usr/local/lib/python3.7/dist-packages (from traitlets>=4.2->IPython>=0.13; python_version >= \"3.7\"->line_profiler) (0.2.0)\n",
            "Requirement already satisfied: wcwidth in /usr/local/lib/python3.7/dist-packages (from prompt-toolkit<2.0.0,>=1.0.4->IPython>=0.13; python_version >= \"3.7\"->line_profiler) (0.2.5)\n",
            "Requirement already satisfied: six>=1.9.0 in /usr/local/lib/python3.7/dist-packages (from prompt-toolkit<2.0.0,>=1.0.4->IPython>=0.13; python_version >= \"3.7\"->line_profiler) (1.15.0)\n",
            "Requirement already satisfied: ptyprocess>=0.5 in /usr/local/lib/python3.7/dist-packages (from pexpect; sys_platform != \"win32\"->IPython>=0.13; python_version >= \"3.7\"->line_profiler) (0.7.0)\n",
            "Installing collected packages: line-profiler\n",
            "Successfully installed line-profiler-3.2.6\n"
          ],
          "name": "stdout"
        }
      ]
    },
    {
      "cell_type": "code",
      "metadata": {
        "id": "Fagzjz7QlhUN"
      },
      "source": [
        "# Utils (from Github)\n",
        "\n",
        "def get_indices(X_shape, HF, WF, stride, pad):\n",
        "    \"\"\"\n",
        "        Returns index matrices in order to transform our input image into a matrix.\n",
        "        Parameters:\n",
        "        -X_shape: Input image shape.\n",
        "        -HF: filter height.\n",
        "        -WF: filter width.\n",
        "        -stride: stride value.\n",
        "        -pad: padding value.\n",
        "        Returns:\n",
        "        -i: matrix of index i.\n",
        "        -j: matrix of index j.\n",
        "        -d: matrix of index d.\n",
        "            (Use to mark delimitation for each channel\n",
        "            during multi-dimensional arrays indexing).\n",
        "    \"\"\"\n",
        "    # get input size\n",
        "    m, n_C, n_H, n_W = X_shape\n",
        "\n",
        "    # get output size\n",
        "    out_h = int((n_H + 2 * pad - HF) / stride) + 1\n",
        "    out_w = int((n_W + 2 * pad - WF) / stride) + 1\n",
        "\n",
        "    # ----Compute matrix of index i----\n",
        "\n",
        "    # Level 1 vector.\n",
        "    level1 = np.repeat(np.arange(HF), WF)\n",
        "    # Duplicate for the other channels.\n",
        "    level1 = np.tile(level1, n_C)\n",
        "    # Create a vector with an increase by 1 at each level.\n",
        "    everyLevels = stride * np.repeat(np.arange(out_h), out_w)\n",
        "    # Create matrix of index i at every levels for each channel.\n",
        "    i = level1.reshape(-1, 1) + everyLevels.reshape(1, -1)\n",
        "\n",
        "    # ----Compute matrix of index j----\n",
        "\n",
        "    # Slide 1 vector.\n",
        "    slide1 = np.tile(np.arange(WF), HF)\n",
        "    # Duplicate for the other channels.\n",
        "    slide1 = np.tile(slide1, n_C)\n",
        "    # Create a vector with an increase by 1 at each slide.\n",
        "    everySlides = stride * np.tile(np.arange(out_w), out_h)\n",
        "    # Create matrix of index j at every slides for each channel.\n",
        "    j = slide1.reshape(-1, 1) + everySlides.reshape(1, -1)\n",
        "\n",
        "    # ----Compute matrix of index d----\n",
        "\n",
        "    # This is to mark delimitation for each channel\n",
        "    # during multi-dimensional arrays indexing.\n",
        "    d = np.repeat(np.arange(n_C), HF * WF).reshape(-1, 1)\n",
        "\n",
        "    return i, j, d\n",
        "\n",
        "\n",
        "def im2col(X, HF, WF, stride, pad):\n",
        "    \"\"\"\n",
        "        Transforms our input image into a matrix.\n",
        "        Parameters:\n",
        "        - X: input image.\n",
        "        - HF: filter height.\n",
        "        - WF: filter width.\n",
        "        - stride: stride value.\n",
        "        - pad: padding value.\n",
        "        Returns:\n",
        "        -cols: output matrix.\n",
        "    \"\"\"\n",
        "    # Padding\n",
        "    X_padded = np.pad(X, ((0, 0), (0, 0), (pad, pad), (pad, pad)), mode='constant')\n",
        "    i, j, d = get_indices(X.shape, HF, WF, stride, pad)\n",
        "    # Multi-dimensional arrays indexing.\n",
        "    cols = X_padded[:, d, i, j]\n",
        "    cols = np.concatenate(cols, axis=-1)\n",
        "    return cols\n",
        "\n",
        "\n",
        "def col2im(dX_col, X_shape, HF, WF, stride, pad):\n",
        "    \"\"\"\n",
        "        Transform our matrix back to the input image.\n",
        "        Parameters:\n",
        "        - dX_col: matrix with error.\n",
        "        - X_shape: input image shape.\n",
        "        - HF: filter height.\n",
        "        - WF: filter width.\n",
        "        - stride: stride value.\n",
        "        - pad: padding value.\n",
        "        Returns:\n",
        "        -x_padded: input image with error.\n",
        "    \"\"\"\n",
        "    # Get input size\n",
        "    N, D, H, W = X_shape\n",
        "    # Add padding if needed.\n",
        "    H_padded, W_padded = H + 2 * pad, W + 2 * pad\n",
        "    X_padded = np.zeros((N, D, H_padded, W_padded))\n",
        "\n",
        "    # Index matrices, necessary to transform our input image into a matrix.\n",
        "    i, j, d = get_indices(X_shape, HF, WF, stride, pad)\n",
        "    # Retrieve batch dimension by spliting dX_col N times: (X, Y) => (N, X, Y)\n",
        "    dX_col_reshaped = np.array(np.hsplit(dX_col, N))\n",
        "    # Reshape our matrix back to image.\n",
        "    # slice(None) is used to produce the [::] effect which means \"for every elements\".\n",
        "    np.add.at(X_padded, (slice(None), d, i, j), dX_col_reshaped)\n",
        "    # Remove padding from new image if needed.\n",
        "    if pad == 0:\n",
        "        return X_padded\n",
        "    elif type(pad) is int:\n",
        "        return X_padded[pad:-pad, pad:-pad, :, :]"
      ],
      "execution_count": null,
      "outputs": []
    },
    {
      "cell_type": "code",
      "metadata": {
        "id": "ijKmY90znO8j"
      },
      "source": [
        "# Convolution, standard implementation\n",
        "\n",
        "@njit\n",
        "def convolution(X, W, b, in_ch, out_ch, filter_size, stride, pad):\n",
        "  \"\"\"\n",
        "  Computes convolution of filter over image using element-wise multiplication\n",
        "\n",
        "  Input:\n",
        "    - X: input image\n",
        "    - W: weight matrix\n",
        "    - b: bias vector\n",
        "    - in_ch: input channel\n",
        "    - out_ch: output channel\n",
        "    - filter_size: num rows/cols of square filter\n",
        "    - stride: stride value\n",
        "    - pad: padding value\n",
        "  Output:\n",
        "    - output matrix after the convolution\n",
        "  \"\"\"\n",
        "  batches, num_channels, prev_height, prev_width = X.shape\n",
        "\n",
        "  # Calculate output size.\n",
        "  height = int((prev_height + 2 * pad - filter_size) / stride) + 1\n",
        "  width = int((prev_width + 2 * pad - filter_size) / stride) + 1\n",
        "\n",
        "  out = np.zeros((batches, num_channels, prev_height, prev_width))\n",
        "\n",
        "  for i in range(batches):  # For each image.\n",
        "\n",
        "      for c in range(num_channels):  # For each channel.\n",
        "\n",
        "          for h in range(height):  # Slide the filter vertically.\n",
        "              h_start = h * stride\n",
        "              h_end = h_start + filter_size\n",
        "\n",
        "              for w in range(width):  # Slide the filter horizontally.\n",
        "                  w_start = w * stride\n",
        "                  w_end = w_start + filter_size\n",
        "\n",
        "                  # Element wise multiplication + sum.\n",
        "                  out[i, c, h, w] = np.sum(X[i, :, h_start:h_end, w_start:w_end]\n",
        "                                            * W[c, ...]) + b[c]\n",
        "  return out\n",
        "\n",
        "@njit(parallel=True)\n",
        "def convolution_parallel(X, W, b, in_ch, out_ch, filter_size, stride, pad):\n",
        "  \"\"\"\n",
        "  Computes convolution of filter over image using element-wise multiplication\n",
        "  using parallelization of for-loop.\n",
        "\n",
        "  Input:\n",
        "    - X: input image\n",
        "    - W: weight matrix\n",
        "    - b: bias vector\n",
        "    - in_ch: input channel\n",
        "    - out_ch: output channel\n",
        "    - filter_size: num rows/cols of square filter\n",
        "    - stride: stride value\n",
        "    - pad: padding value\n",
        "  Output:\n",
        "    - output matrix after the convolution\n",
        "  \"\"\"\n",
        "  batches, num_channels, prev_height, prev_width = X.shape\n",
        "\n",
        "  # Calculate output size.\n",
        "  height = int((prev_height + 2 * pad - filter_size) / stride) + 1\n",
        "  width = int((prev_width + 2 * pad - filter_size) / stride) + 1\n",
        "\n",
        "  out = np.zeros((batches, num_channels, prev_height, prev_width))\n",
        "\n",
        "  for i in range(batches):  # For each image.\n",
        "\n",
        "      for c in range(num_channels):  # For each channel.\n",
        "\n",
        "          for h in range(height):  # Slide the filter vertically.\n",
        "              h_start = h * stride\n",
        "              h_end = h_start + filter_size\n",
        "\n",
        "              for w in range(width):  # Slide the filter horizontally.\n",
        "                  w_start = w * stride\n",
        "                  w_end = w_start + filter_size\n",
        "\n",
        "                  # Element wise multiplication + sum.\n",
        "                  out[i, c, h, w] = np.sum(X[i, :, h_start:h_end, w_start:w_end]\n",
        "                                            * W[c, ...]) + b[c]\n",
        "  return out"
      ],
      "execution_count": null,
      "outputs": []
    },
    {
      "cell_type": "code",
      "metadata": {
        "id": "IQqsowFXVRRj"
      },
      "source": [
        "# Im2Col Convolution\n",
        "\n",
        "@njit\n",
        "def im2col_convolution(X, W, b, in_ch, out_ch, filter_size, stride, pad):\n",
        "\n",
        "  batches, num_channels, prev_height, prev_width = X.shape\n",
        "\n",
        "  height = int((prev_height + 2 * pad - filter_size) / stride) + 1\n",
        "  width = int((prev_width + 2 * pad - filter_size) / stride) + 1\n",
        "\n",
        "  X_col = im2col(X, filter_size, filter_size, stride, pad)\n",
        "  w_col = W.reshape((out_ch, -1))\n",
        "  b_col = b.reshape(-1, 1)\n",
        "\n",
        "  # Perform matrix multiplication.\n",
        "  out = w_col @ X_col + b_col\n",
        "\n",
        "  # Reshape back matrix to image.\n",
        "  out = np.array(np.hsplit(out, batches)).reshape((batches, out_ch, height, width))\n",
        "\n",
        "  return out\n"
      ],
      "execution_count": null,
      "outputs": []
    },
    {
      "cell_type": "code",
      "metadata": {
        "id": "6qb7fs94Xb0T"
      },
      "source": [
        "# Set input image parameters\n",
        "out_ch = 5\n",
        "in_ch = 3\n",
        "filter_size = 3\n",
        "stride = 1\n",
        "pad = 0\n",
        "nsamples = 10\n",
        "img_dim = 28\n",
        "\n",
        "# Set random seed\n",
        "np.random.seed(42)\n",
        "\n",
        "# Initialize weights and bias\n",
        "W = np.random.rand(out_ch, in_ch, filter_size, filter_size)\n",
        "b = np.random.rand(out_ch)\n",
        "\n",
        "# Initialize input image with random values\n",
        "X = np.random.rand(nsamples, in_ch, img_dim, img_dim)"
      ],
      "execution_count": null,
      "outputs": []
    },
    {
      "cell_type": "markdown",
      "metadata": {
        "id": "8LwxBfBMWN0N"
      },
      "source": [
        "# Regular Convolution"
      ]
    },
    {
      "cell_type": "code",
      "metadata": {
        "colab": {
          "base_uri": "https://localhost:8080/"
        },
        "id": "RUWUgmj5ZlsJ",
        "outputId": "976ec523-b6da-4ce3-a7c0-a5693cc62b0a"
      },
      "source": [
        "# Convolution without parallelization\n",
        "%timeit -n 100 convolution.py_func(X=X, W=W, b=b, in_ch=in_ch, out_ch=out_ch, filter_size=filter_size, stride=stride, pad=pad)"
      ],
      "execution_count": null,
      "outputs": [
        {
          "output_type": "stream",
          "text": [
            "100 loops, best of 5: 139 ms per loop\n"
          ],
          "name": "stdout"
        }
      ]
    },
    {
      "cell_type": "code",
      "metadata": {
        "id": "g6fSMxG_QCrW"
      },
      "source": [
        "# Line profiling\n",
        "%lprun -u 1e-3 -f convolution.py_func convolution.py_func(X=X, W=W, b=b, in_ch=in_ch, out_ch=out_ch, filter_size=filter_size, stride=stride, pad=pad)"
      ],
      "execution_count": null,
      "outputs": []
    },
    {
      "cell_type": "code",
      "metadata": {
        "colab": {
          "base_uri": "https://localhost:8080/"
        },
        "id": "SZg49lAYZaDB",
        "outputId": "38269c66-dd87-432b-c8e1-baa46f97c579"
      },
      "source": [
        "# Convolution with numba (not using parallelization)\n",
        "%timeit -n 100 convolution(X=X, W=W, b=b, in_ch=in_ch, out_ch=out_ch, filter_size=filter_size, stride=stride, pad=pad)"
      ],
      "execution_count": null,
      "outputs": [
        {
          "output_type": "stream",
          "text": [
            "100 loops, best of 5: 4.73 ms per loop\n"
          ],
          "name": "stdout"
        }
      ]
    },
    {
      "cell_type": "code",
      "metadata": {
        "colab": {
          "base_uri": "https://localhost:8080/"
        },
        "id": "XvsfVf_TUkXh",
        "outputId": "70180ddb-819d-4a90-9a6b-542cb9a5b55f"
      },
      "source": [
        "# Convolution with numba (using parallelization)\n",
        "%timeit -n 100 convolution_parallel(X=X, W=W, b=b, in_ch=in_ch, out_ch=out_ch, filter_size=filter_size, stride=stride, pad=pad)"
      ],
      "execution_count": null,
      "outputs": [
        {
          "output_type": "stream",
          "text": [
            "100 loops, best of 5: 50.1 ms per loop\n"
          ],
          "name": "stdout"
        }
      ]
    },
    {
      "cell_type": "markdown",
      "metadata": {
        "id": "6wBS9_BNWYpd"
      },
      "source": [
        "# Convolution using Im2Col  "
      ]
    },
    {
      "cell_type": "code",
      "metadata": {
        "id": "N11nhIlnWb0U"
      },
      "source": [
        "# Matrix multiplication (from Homework 10)\n",
        "\n",
        "@cuda.jit('(float32[:,:], float32[:,:], float32[:,:])')\n",
        "def matmul_gpu(A, B, C):\n",
        "    \"\"\"\n",
        "    Perform matrix multiplication of C = A * B\n",
        "    \"\"\"\n",
        "    row, col = cuda.grid(2)\n",
        "    if row < C.shape[0] and col < C.shape[1]:\n",
        "        tmp = 0.\n",
        "        for k in range(A.shape[1]):\n",
        "            tmp += A[row, k] * B[k, col]\n",
        "        C[row, col] = tmp\n"
      ],
      "execution_count": null,
      "outputs": []
    },
    {
      "cell_type": "code",
      "metadata": {
        "id": "Owy6nmLeg22O",
        "colab": {
          "base_uri": "https://localhost:8080/"
        },
        "outputId": "345483d1-cd3c-434d-cb0b-d9d041f4b601"
      },
      "source": [
        "# Convolution without parallelization\n",
        "%timeit -n 100 im2col_convolution.py_func(X=X, W=W, b=b, in_ch=in_ch, out_ch=out_ch, filter_size=filter_size, stride=stride, pad=pad)"
      ],
      "execution_count": null,
      "outputs": [
        {
          "output_type": "stream",
          "text": [
            "100 loops, best of 5: 2.27 ms per loop\n"
          ],
          "name": "stdout"
        }
      ]
    },
    {
      "cell_type": "code",
      "metadata": {
        "id": "9ZAThMrOhFCh"
      },
      "source": [
        "%lprun -u 1e-3 -f im2col_convolution.py_func im2col_convolution.py_func(X=X, W=W, b=b, in_ch=in_ch, out_ch=out_ch, filter_size=filter_size, stride=stride, pad=pad)"
      ],
      "execution_count": null,
      "outputs": []
    },
    {
      "cell_type": "markdown",
      "metadata": {
        "id": "9d1kQCR5msVI"
      },
      "source": [
        "# Im2Col using Numba"
      ]
    },
    {
      "cell_type": "code",
      "metadata": {
        "id": "1vE7yRKMcXqf"
      },
      "source": [
        "# CPU Host code: transform input image using Im2Col\n",
        "X_col = im2col(X=X, HF=filter_size, WF=filter_size, stride=stride, pad=pad)\n",
        "w_col = W.reshape(out_ch, -1)\n",
        "b_col = b.reshape(-1, 1)\n",
        "\n",
        "# Move data to GPU\n",
        "A_GPU = cuda.to_device(X_col) \n",
        "B_GPU = cuda.to_device(w_col)\n",
        "C_GPU = cuda.to_device(np.zeros((w_col.shape[0],X_col.shape[1]), dtype=np.float32))\n",
        "\n",
        "# Configure thread blocks for CUDA\n",
        "threadsperblock = (1, 256)\n",
        "blockspergrid_x = int(math.ceil(A_GPU.shape[0] / threadsperblock[0]))\n",
        "blockspergrid_y = int(math.ceil(B_GPU.shape[1] / threadsperblock[1]))\n",
        "blockspergrid = (blockspergrid_x, blockspergrid_y)"
      ],
      "execution_count": null,
      "outputs": []
    },
    {
      "cell_type": "code",
      "metadata": {
        "colab": {
          "base_uri": "https://localhost:8080/"
        },
        "id": "7cZOpmHIXIWR",
        "outputId": "bc0d2b2e-0678-4243-9ece-3735ad4db546"
      },
      "source": [
        "%%timeit\n",
        "# Convolution with numba and parallelization\n",
        "matmul_gpu[blockspergrid, threadsperblock](A_GPU,B_GPU, C_GPU)\n",
        "cuda.synchronize()"
      ],
      "execution_count": null,
      "outputs": [
        {
          "output_type": "stream",
          "text": [
            "100 loops, best of 5: 2.35 ms per loop\n"
          ],
          "name": "stdout"
        }
      ]
    },
    {
      "cell_type": "markdown",
      "metadata": {
        "id": "GlicsIsmmmhC"
      },
      "source": [
        "# Im2Col using CuPy"
      ]
    },
    {
      "cell_type": "code",
      "metadata": {
        "id": "KH-39J8Vz4bX"
      },
      "source": [
        "# CPU Host code: transform input image using Im2Col\n",
        "X_col = im2col(X=X, HF=filter_size, WF=filter_size, stride=stride, pad=pad)\n",
        "w_col = W.reshape(out_ch, -1)\n",
        "b_col = b.reshape(-1, 1)\n",
        "\n",
        "# Move data to GPU\n",
        "A_GPU = cp.asarray(X_col) \n",
        "B_GPU = cp.asarray(w_col)\n",
        "C_GPU = cp.asarray(np.zeros((w_col.shape[0],X_col.shape[1]), dtype=np.float32))\n",
        "\n",
        "# Configure thread blocks for CUDA\n",
        "threadsperblock = (1, 256)\n",
        "blockspergrid_x = int(math.ceil(A_GPU.shape[0] / threadsperblock[0]))\n",
        "blockspergrid_y = int(math.ceil(B_GPU.shape[1] / threadsperblock[1]))\n",
        "blockspergrid = (blockspergrid_x, blockspergrid_y)"
      ],
      "execution_count": null,
      "outputs": []
    },
    {
      "cell_type": "code",
      "metadata": {
        "colab": {
          "base_uri": "https://localhost:8080/"
        },
        "id": "G7P_kwIs0ISj",
        "outputId": "501e315c-ab72-4f06-9de2-9213ed90f7ac"
      },
      "source": [
        "# Convolution with CuPy and parallelization\n",
        "%%timeit\n",
        "C_GPU = cp.matmul(B_GPU,A_GPU)\n",
        "cuda.synchronize()"
      ],
      "execution_count": null,
      "outputs": [
        {
          "output_type": "stream",
          "text": [
            "The slowest run took 7.36 times longer than the fastest. This could mean that an intermediate result is being cached.\n",
            "10000 loops, best of 5: 43.2 µs per loop\n"
          ],
          "name": "stdout"
        }
      ]
    },
    {
      "cell_type": "code",
      "metadata": {
        "id": "lvbfenad5aom"
      },
      "source": [
        ""
      ],
      "execution_count": null,
      "outputs": []
    }
  ]
}